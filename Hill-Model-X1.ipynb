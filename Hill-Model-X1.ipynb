{
 "cells": [
  {
   "cell_type": "markdown",
   "metadata": {},
   "source": [
    "### Regulation kinetics of Na+-Ca2+ exchange current in guinea-pig ventricular myocytes"
   ]
  },
  {
   "cell_type": "markdown",
   "metadata": {},
   "source": [
    "#### Import libraries"
   ]
  },
  {
   "cell_type": "code",
   "execution_count": 7,
   "metadata": {},
   "outputs": [],
   "source": [
    "import numpy as np\n",
    "from scipy.integrate import odeint\n",
    "import matplotlib.pyplot as plt\n",
    "import seaborn as sns\n",
    "sns.set()"
   ]
  },
  {
   "cell_type": "code",
   "execution_count": 8,
   "metadata": {},
   "outputs": [],
   "source": [
    "# function that returns dy/dt\n",
    "def model(y,t,k):\n",
    "    \n",
    "    '''y[0] = FE1,\n",
    "       y[1] = FI1,\n",
    "       y[2] = FI2,\n",
    "       y[3]=FE2'''\n",
    "    \n",
    "    dy1dt = (k[\"k2\"]+k[\"k3\"]) + \\\n",
    "            y[1]*(k[\"beta1\"]-k['k2']-k['k3']) +\\\n",
    "            y[2]*(k[\"beta2\"]-k['k2']+k['k3']) - \\\n",
    "            y[0]*(k[\"k1\"]+k['k2']+k['k3']+k[\"k4\"]+k[\"alpha1\"]+k[\"alpha2\"])\n",
    "    \n",
    "    dy2dt = y[0]*k[\"alpha1\"] - y[1]*k[\"beta1\"]\n",
    "    dy3dt = y[0]*k[\"alpha2\"] - y[2]*k[\"beta2\"]\n",
    "    \n",
    "    dydt = [dy1dt,dy2dt,dy3dt]\n",
    "\n",
    "    return dydt"
   ]
  },
  {
   "cell_type": "markdown",
   "metadata": {},
   "source": [
    "#### Define Constant"
   ]
  },
  {
   "cell_type": "code",
   "execution_count": 13,
   "metadata": {},
   "outputs": [
    {
     "data": {
      "image/png": "[encoded data removed]",
      "text/plain": [
       "<Figure size 576x432 with 1 Axes>"
      ]
     },
     "metadata": {
      "needs_background": "light"
     },
     "output_type": "display_data"
    }
   ],
   "source": [
    "pt = 0\n",
    "PT = []\n",
    "plt.figure(figsize = [8,6])\n",
    "plt.xticks(fontsize=14)\n",
    "plt.yticks(fontsize=14)\n",
    "#CAI = [0.01e-6,0.1e-6,1e-6]\n",
    "CAI = list(np.linspace(0.01e-6,100e-6,100))\n",
    "\n",
    "#CAI = [0.01e-6,0.1e-6,1e-6,10e-6,100e-6]\n",
    "II = []\n",
    "CA = []\n",
    "Data = []\n",
    "tt = 0 \n",
    "for Cai in CAI:\n",
    "    Nai = 100*1e-3\n",
    "    Nao = 0*1e-3\n",
    "    Cao = 5*1e-3\n",
    "    #Ca = 2e-3\n",
    "    K_ci = 0.01*1e-3\n",
    "    K_4ni = 8*1e-3\n",
    "    K_3ni = 9*1e-3\n",
    "    K_2ni = 9*1e-3\n",
    "    K_1ni = 700*1e-3\n",
    "    asym = 80*1e-3 \n",
    "    V_m = 0*1e-3\n",
    "    kvm = np.exp(2.0*V_m/53.08)\n",
    "    K_Ca_act = 0.004*1e-3\n",
    "\n",
    "    alpha1_Ca_on = 2.0\n",
    "    alpha1_Ca_off = 1.5\n",
    "    beta1_Ca_on = 1.2\n",
    "    beta1_Ca_off = 0.0005\n",
    "\n",
    "    alpha2_Ca_on = 0.03\n",
    "    alpha2_Ca_off = 10\n",
    "    beta2_Ca_on = 90\n",
    "    beta2_Ca_off = 0.1\n",
    "\n",
    "\n",
    "    D_i = (Nai**4)*K_ci +\\\n",
    "      (Nai**3)*K_ci*K_4ni +\\\n",
    "      (Nai**2)*K_ci*K_4ni*K_3ni + \\\n",
    "      (Nai**1)*K_ci*K_4ni*K_3ni*K_2ni + \\\n",
    "      K_ci*K_4ni*K_3ni*K_2ni*K_1ni + \\\n",
    "      Cai*K_4ni*K_3ni*K_2ni*K_1ni\n",
    "\n",
    "    #print(\"D_i: \",D_i)\n",
    "    #print(\"---------------\")\n",
    "\n",
    "    F_E14Na = (Nai**4)*K_ci/D_i\n",
    "    F_E1Ca = Cai*K_1ni*K_2ni*K_3ni*K_4ni/D_i\n",
    "    \n",
    "\n",
    "    K_1no = (asym**0.25)*K_1ni\n",
    "    K_2no = (asym**0.25)*K_2ni\n",
    "    K_3no = (asym**0.25)*K_3ni\n",
    "    K_4no = (asym**0.25)*K_4ni\n",
    "    K_co =  (asym**0.25)*K_ci\n",
    "    \n",
    "    F_E24Na = (Nai**4)*K_co/D_i\n",
    "    F_E2Ca = Cai*K_1no*K_2no*K_3no*K_4no/D_i\n",
    "\n",
    "    k1 = F_E14Na*1000*kvm\n",
    "    k2 = F_E24Na*1000/kvm\n",
    "    k3 = F_E2Ca*1000\n",
    "    k4 = F_E1Ca*1000\n",
    "\n",
    "    #print(\"[k1,k2,k3,k4]: \", [k1,k2,k3,k4])\n",
    "    #print(\"---------------\")\n",
    "\n",
    "    F_Ca_act = Cai/(Cai+K_Ca_act)\n",
    "    alpha1 = F_E14Na*((F_Ca_act*alpha1_Ca_on)\\\n",
    "            +(1-F_Ca_act)*alpha1_Ca_off)\n",
    "    beta1 = F_Ca_act*beta1_Ca_on \\\n",
    "            + (1-F_Ca_act)*beta1_Ca_off\n",
    "    alpha2 = F_Ca_act*alpha2_Ca_on \\\n",
    "            + (1-F_Ca_act)*alpha2_Ca_off\n",
    "    beta2 = F_Ca_act*beta2_Ca_on \\\n",
    "            + (1-F_Ca_act)*beta2_Ca_off\n",
    "\n",
    "    k = {\"alpha1\":alpha1,\"beta1\":beta1,\\\n",
    "        \"alpha2\":alpha2,\"beta2\":beta2,\\\n",
    "        \"k1\":k1,\"k2\":k2,\"k3\":k3,\"k4\":k4}\n",
    "\n",
    "    #print(\"k: \",k)\n",
    "    #print(\"------------------\")\n",
    "    \n",
    "    N = 1\n",
    "    T = 50\n",
    "\n",
    "    # initial condition\n",
    "    y0 = [1,0,0]\n",
    "\n",
    "\n",
    "    # time points\n",
    "    t = np.linspace(0,T)\n",
    "\n",
    "\n",
    "    '''solve ODEs'''\n",
    "    y = odeint(model,y0,t,args=(k,))\n",
    "\n",
    "\n",
    "    y1 = np.empty_like(t)\n",
    "    y2 = np.empty_like(t)\n",
    "    y3 = np.empty_like(t)\n",
    "    y4 = np.empty_like(t)\n",
    "    I  = np.empty_like(t)\n",
    "\n",
    "    for i in range(len(t)):\n",
    "        y1[i] = y[i][0]\n",
    "        y2[i] = y[i][1]\n",
    "        y3[i] = y[i][2]\n",
    "        y4[i] = 1 - y1[i]-y2[i]-y3[i]\n",
    "        \n",
    "        I[i] = y1[i]*k1 - y3[i]*k2\n",
    "\n",
    "    #print(\"I : \", I[len(t) -1])\n",
    "    \n",
    "    if tt>0:\n",
    "        Data.append({\"Ca\":Cai*1e6,\"I\":I[len(t) -1]/200})\n",
    "        II.append(I[len(t) -1]/200)\n",
    "        CA.append((Cai*1e6))\n",
    "        PT.append(pt)\n",
    "        pt = pt+1\n",
    "        plt.scatter(Cai*1e6,I[len(t) -1]/200)\n",
    "    else: \n",
    "        Data.append({\"Ca\":0,\"I\":0})\n",
    "        plt.scatter(0,0)\n",
    "        CA.append(0)\n",
    "        II.append(0)\n",
    "    \n",
    "    tt = tt+1\n",
    "plt.semilogx(CA,II)\n",
    "plt.xlabel(\"$Ca^{2+}$ Concentration ($\\mu M$)\", fontsize =20)\n",
    "plt.ylabel(\"Current : $I_{NaCa}$\", fontsize =20)\n",
    "plt.show()"
   ]
  },
  {
   "cell_type": "code",
   "execution_count": 10,
   "metadata": {},
   "outputs": [],
   "source": [
    "import pandas as pd\n",
    "DF = pd.DataFrame(Data)\n",
    "DF.to_csv(\"naca.csv\")"
   ]
  },
  {
   "cell_type": "code",
   "execution_count": 11,
   "metadata": {},
   "outputs": [],
   "source": [
    "DF['II'] = DF['I'].apply(lambda x: np.log(x))"
   ]
  },
  {
   "cell_type": "code",
   "execution_count": 12,
   "metadata": {},
   "outputs": [
    {
     "data": {
      "text/plain": [
       "[<matplotlib.lines.Line2D at 0x1c635e4b908>]"
      ]
     },
     "execution_count": 12,
     "metadata": {},
     "output_type": "execute_result"
    },
    {
     "data": {
      "image/png": "[encoded data removed]",
      "text/plain": [
       "<Figure size 432x288 with 1 Axes>"
      ]
     },
     "metadata": {
      "needs_background": "light"
     },
     "output_type": "display_data"
    }
   ],
   "source": [
    "plt.plot(DF['Ca'],DF['I'])"
   ]
  },
  {
   "cell_type": "markdown",
   "metadata": {},
   "source": [
    "---------"
   ]
  },
  {
   "cell_type": "code",
   "execution_count": null,
   "metadata": {},
   "outputs": [],
   "source": []
  },
  {
   "cell_type": "code",
   "execution_count": null,
   "metadata": {},
   "outputs": [],
   "source": []
  }
 ],
 "metadata": {
  "kernelspec": {
   "display_name": "Python 3",
   "language": "python",
   "name": "python3"
  },
  "language_info": {
   "codemirror_mode": {
    "name": "ipython",
    "version": 3
   },
   "file_extension": ".py",
   "mimetype": "text/x-python",
   "name": "python",
   "nbconvert_exporter": "python",
   "pygments_lexer": "ipython3",
   "version": "3.7.4"
  }
 },
 "nbformat": 4,
 "nbformat_minor": 2
}
